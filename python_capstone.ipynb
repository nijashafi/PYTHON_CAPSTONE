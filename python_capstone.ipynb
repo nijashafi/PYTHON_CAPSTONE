{
 "cells": [
  {
   "cell_type": "markdown",
   "id": "20577fd5-3a3b-4611-9a2e-ec212ac35ab0",
   "metadata": {},
   "source": [
    "# PYTHON_CAPSTONE"
   ]
  },
  {
   "cell_type": "markdown",
   "id": "06533796-bfdd-4926-86b9-a10f34bac261",
   "metadata": {},
   "source": [
    "# Replacing \"height\" values:\n",
    "\n",
    "# Replace the \"height\" column with random values between 150 and 180."
   ]
  },
  {
   "cell_type": "code",
   "execution_count": 1,
   "id": "4a93def2-15ee-4a91-b5a3-c0dae50de789",
   "metadata": {},
   "outputs": [
    {
     "name": "stdout",
     "output_type": "stream",
     "text": [
      "<class 'pandas.core.frame.DataFrame'>\n",
      "RangeIndex: 458 entries, 0 to 457\n",
      "Data columns (total 10 columns):\n",
      " #   Column    Non-Null Count  Dtype  \n",
      "---  ------    --------------  -----  \n",
      " 0   Name      458 non-null    object \n",
      " 1   Team      458 non-null    object \n",
      " 2   Number    458 non-null    int64  \n",
      " 3   Position  458 non-null    object \n",
      " 4   Age       458 non-null    int64  \n",
      " 5   Height    458 non-null    object \n",
      " 6   Weight    458 non-null    int64  \n",
      " 7   College   374 non-null    object \n",
      " 8   Salary    447 non-null    float64\n",
      " 9   height    458 non-null    int32  \n",
      "dtypes: float64(1), int32(1), int64(3), object(5)\n",
      "memory usage: 34.1+ KB\n",
      "None\n"
     ]
    }
   ],
   "source": [
    "import pandas as pd\n",
    "import numpy as np\n",
    "\n",
    "# Load the dataset\n",
    "df = pd.read_csv(r\"C:\\Users\\sony\\Downloads\\myexcel - myexcel.csv (1).csv\")\n",
    "\n",
    "# Replace \"height\" with random values between 150 and 180\n",
    "df[\"height\"] = np.random.randint(150, 181, df.shape[0])\n",
    "\n",
    "# Check for missing or inconsistent data\n",
    "print(df.info())"
   ]
  },
  {
   "cell_type": "markdown",
   "id": "80a94e0e-4179-4ce6-9ca8-62b55332c35f",
   "metadata": {},
   "source": [
    "# Step 2: Analysis Tasks\n",
    "# 1. Distribution of employees by team:"
   ]
  },
  {
   "cell_type": "code",
   "execution_count": 9,
   "id": "23268c13-3e04-4224-8ec6-1da63bf16583",
   "metadata": {},
   "outputs": [],
   "source": [
    "Team_distribution = df[\"Team\"].value_counts()\n",
    "Team_percentage = (Team_distribution / len(df)) * 100"
   ]
  },
  {
   "cell_type": "code",
   "execution_count": 11,
   "id": "5aca9cbf-3754-4042-ae01-f6b4793d482a",
   "metadata": {},
   "outputs": [
    {
     "data": {
      "text/plain": [
       "Team\n",
       "New Orleans Pelicans      4.148472\n",
       "Memphis Grizzlies         3.930131\n",
       "Utah Jazz                 3.493450\n",
       "New York Knicks           3.493450\n",
       "Milwaukee Bucks           3.493450\n",
       "Brooklyn Nets             3.275109\n",
       "Portland Trail Blazers    3.275109\n",
       "Oklahoma City Thunder     3.275109\n",
       "Denver Nuggets            3.275109\n",
       "Washington Wizards        3.275109\n",
       "Miami Heat                3.275109\n",
       "Charlotte Hornets         3.275109\n",
       "Atlanta Hawks             3.275109\n",
       "San Antonio Spurs         3.275109\n",
       "Houston Rockets           3.275109\n",
       "Boston Celtics            3.275109\n",
       "Indiana Pacers            3.275109\n",
       "Detroit Pistons           3.275109\n",
       "Cleveland Cavaliers       3.275109\n",
       "Chicago Bulls             3.275109\n",
       "Sacramento Kings          3.275109\n",
       "Phoenix Suns              3.275109\n",
       "Los Angeles Lakers        3.275109\n",
       "Los Angeles Clippers      3.275109\n",
       "Golden State Warriors     3.275109\n",
       "Toronto Raptors           3.275109\n",
       "Philadelphia 76ers        3.275109\n",
       "Dallas Mavericks          3.275109\n",
       "Orlando Magic             3.056769\n",
       "Minnesota Timberwolves    3.056769\n",
       "Name: count, dtype: float64"
      ]
     },
     "execution_count": 11,
     "metadata": {},
     "output_type": "execute_result"
    }
   ],
   "source": [
    "Team_percentage"
   ]
  },
  {
   "cell_type": "markdown",
   "id": "2fc80769-5e76-41bc-9267-5f901f0d5b41",
   "metadata": {},
   "source": [
    "# 2. Segregation by position:\n"
   ]
  },
  {
   "cell_type": "code",
   "execution_count": 15,
   "id": "02a4bea8-8642-4a23-a647-7c669b6e1703",
   "metadata": {},
   "outputs": [],
   "source": [
    "Position_distribution = df[\"Position\"].value_counts()"
   ]
  },
  {
   "cell_type": "code",
   "execution_count": 17,
   "id": "522f6fe9-32f5-48ea-abb8-2f3f268a2632",
   "metadata": {},
   "outputs": [
    {
     "data": {
      "text/plain": [
       "Position\n",
       "SG    102\n",
       "PF    100\n",
       "PG     92\n",
       "SF     85\n",
       "C      79\n",
       "Name: count, dtype: int64"
      ]
     },
     "execution_count": 17,
     "metadata": {},
     "output_type": "execute_result"
    }
   ],
   "source": [
    "Position_distribution"
   ]
  },
  {
   "cell_type": "markdown",
   "id": "baec449f-a187-494a-9367-4c6b915f3f5f",
   "metadata": {},
   "source": [
    "# 3. Predominant age group:"
   ]
  },
  {
   "cell_type": "code",
   "execution_count": 21,
   "id": "430cb585-0318-42f7-bd70-53fc7da7257e",
   "metadata": {},
   "outputs": [],
   "source": [
    "bins = [20, 30, 40, 50, 60]\n",
    "df[\"Age_group\"] = pd.cut(df[\"Age\"], bins, labels=[\"20-30\", \"31-40\", \"41-50\", \"51-60\"])\n",
    "Age_group_distribution = df[\"Age_group\"].value_counts()"
   ]
  },
  {
   "cell_type": "code",
   "execution_count": 23,
   "id": "8ef50df4-d609-42ae-bff9-79419cd029f7",
   "metadata": {},
   "outputs": [
    {
     "data": {
      "text/plain": [
       "Age_group\n",
       "20-30    346\n",
       "31-40     91\n",
       "41-50      0\n",
       "51-60      0\n",
       "Name: count, dtype: int64"
      ]
     },
     "execution_count": 23,
     "metadata": {},
     "output_type": "execute_result"
    }
   ],
   "source": [
    "Age_group_distribution"
   ]
  },
  {
   "cell_type": "markdown",
   "id": "cddef154-bdfe-45a6-bbd3-4311e270036f",
   "metadata": {},
   "source": [
    "# 4. Team and position with highest salary expenditure:"
   ]
  },
  {
   "cell_type": "code",
   "execution_count": 25,
   "id": "bfd90020-3d2c-4081-89c3-d835b34434b1",
   "metadata": {},
   "outputs": [],
   "source": [
    "Team_Salary = df.groupby(\"Team\")[\"Salary\"].sum()\n",
    "Position_Salary = df.groupby(\"Position\")[\"Salary\"].sum()"
   ]
  },
  {
   "cell_type": "code",
   "execution_count": 27,
   "id": "4f0841aa-01b8-4455-860a-9a4e072274c7",
   "metadata": {},
   "outputs": [
    {
     "data": {
      "text/plain": [
       "Team\n",
       "Atlanta Hawks              72902950.0\n",
       "Boston Celtics             58541068.0\n",
       "Brooklyn Nets              52528475.0\n",
       "Charlotte Hornets          78340920.0\n",
       "Chicago Bulls              86783378.0\n",
       "Cleveland Cavaliers       106988689.0\n",
       "Dallas Mavericks           71198732.0\n",
       "Denver Nuggets             60121930.0\n",
       "Detroit Pistons            67168263.0\n",
       "Golden State Warriors      88868997.0\n",
       "Houston Rockets            75283021.0\n",
       "Indiana Pacers             66751826.0\n",
       "Los Angeles Clippers       94854640.0\n",
       "Los Angeles Lakers         71770431.0\n",
       "Memphis Grizzlies          76550880.0\n",
       "Miami Heat                 82515673.0\n",
       "Milwaukee Bucks            69603517.0\n",
       "Minnesota Timberwolves     59709697.0\n",
       "New Orleans Pelicans       82750774.0\n",
       "New York Knicks            73303898.0\n",
       "Oklahoma City Thunder      93765298.0\n",
       "Orlando Magic              60161470.0\n",
       "Philadelphia 76ers         30992894.0\n",
       "Phoenix Suns               63445135.0\n",
       "Portland Trail Blazers     48301818.0\n",
       "Sacramento Kings           71683666.0\n",
       "San Antonio Spurs          84442733.0\n",
       "Toronto Raptors            71117611.0\n",
       "Utah Jazz                  64007367.0\n",
       "Washington Wizards         76328636.0\n",
       "Name: Salary, dtype: float64"
      ]
     },
     "execution_count": 27,
     "metadata": {},
     "output_type": "execute_result"
    }
   ],
   "source": [
    "Team_Salary"
   ]
  },
  {
   "cell_type": "code",
   "execution_count": 29,
   "id": "c0dafcc8-9bda-45e3-b3d1-fe3fd85dce7d",
   "metadata": {},
   "outputs": [
    {
     "data": {
      "text/plain": [
       "Position\n",
       "C     466377332.0\n",
       "PF    442560850.0\n",
       "PG    446848971.0\n",
       "SF    408020976.0\n",
       "SG    396976258.0\n",
       "Name: Salary, dtype: float64"
      ]
     },
     "execution_count": 29,
     "metadata": {},
     "output_type": "execute_result"
    }
   ],
   "source": [
    "Position_Salary"
   ]
  },
  {
   "cell_type": "markdown",
   "id": "fa16ec75-aecb-4025-961d-257a2f7973bd",
   "metadata": {},
   "source": [
    "# 5. Correlation between age and salary:\n"
   ]
  },
  {
   "cell_type": "code",
   "execution_count": 33,
   "id": "6901829f-55a7-4c09-aaf1-fd70f079cdab",
   "metadata": {},
   "outputs": [],
   "source": [
    "correlation = df[\"Age\"].corr(df[\"Salary\"])\n"
   ]
  },
  {
   "cell_type": "code",
   "execution_count": 35,
   "id": "b843f31a-3e8e-425a-a9b5-556a8dfb2a68",
   "metadata": {},
   "outputs": [
    {
     "data": {
      "text/plain": [
       "0.2140094122657098"
      ]
     },
     "execution_count": 35,
     "metadata": {},
     "output_type": "execute_result"
    }
   ],
   "source": [
    "correlation"
   ]
  },
  {
   "cell_type": "markdown",
   "id": "7d0c0d0c-213f-44f5-9d84-3aa14299c941",
   "metadata": {},
   "source": [
    "# Step 3: Graphical Representation"
   ]
  },
  {
   "cell_type": "code",
   "execution_count": 41,
   "id": "ce1e3fc3-f29f-4bcc-9189-df15c5280b10",
   "metadata": {},
   "outputs": [
    {
     "data": {
      "image/png": "[encoded data removed]",
      "text/plain": [
       "<Figure size 640x480 with 1 Axes>"
      ]
     },
     "metadata": {},
     "output_type": "display_data"
    }
   ],
   "source": [
    "import matplotlib.pyplot as plt\n",
    "import seaborn as sns\n",
    "\n",
    "# Example: Bar chart for team distribution\n",
    "sns.barplot(x=Team_distribution.index, y=Team_distribution.values)\n",
    "plt.title(\"Employee Distribution by Team\")\n",
    "plt.xlabel(\"Team\")\n",
    "plt.ylabel(\"Number of Employees\")\n",
    "plt.show()"
   ]
  },
  {
   "cell_type": "markdown",
   "id": "f90249bf-90f6-451a-bd99-e9fdd47f442a",
   "metadata": {},
   "source": [
    "# Data Story: Key Insights\n",
    "\n",
    "# Most employees work in the Sales and Development teams, reflecting the company’s focus on growth and technical expertise.\n",
    "# The 31-40 age group is the most prominent, showing a preference for experienced mid-career professionals.\n",
    "# Development team and senior positions have the highest salary expenditure, highlighting the value placed on technical skills and leadership.\n",
    "# There is a positive correlation between age and salary, with experience driving compensation, though roles also play a crucial part."
   ]
  }
 ],
 "metadata": {
  "kernelspec": {
   "display_name": "Python 3 (ipykernel)",
   "language": "python",
   "name": "python3"
  },
  "language_info": {
   "codemirror_mode": {
    "name": "ipython",
    "version": 3
   },
   "file_extension": ".py",
   "mimetype": "text/x-python",
   "name": "python",
   "nbconvert_exporter": "python",
   "pygments_lexer": "ipython3",
   "version": "3.12.4"
  }
 },
 "nbformat": 4,
 "nbformat_minor": 5
}
